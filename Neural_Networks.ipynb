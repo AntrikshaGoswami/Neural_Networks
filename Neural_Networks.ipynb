{
 "cells": [
  {
   "cell_type": "markdown",
   "metadata": {
    "id": "IIfOydFLJIaI"
   },
   "source": [
    "# Neural Networks"
   ]
  },
  {
   "cell_type": "markdown",
   "metadata": {},
   "source": [
    "## Predicting Chances of Admission at UCLA"
   ]
  },
  {
   "cell_type": "markdown",
   "metadata": {
    "id": "9s4YOTYtdsPc"
   },
   "source": [
    "### Project Scope:\n",
    "\n",
    "The world is developing rapidly and continuously looking for the best knowledge and experience among people. This motivates people all around the world to stand out in their jobs and look for higher degrees that can help them in improving their skills and knowledge. As a result, the number of students applying for Master's programs has increased substantially.\n",
    "\n",
    "The current admission dataset was created for the prediction of admissions into the University of California, Los Angeles (UCLA). It was built to help students in shortlisting universities based on their profiles. The predicted output gives them a fair idea about their chances of getting accepted.\n",
    "\n",
    "\n",
    "**Your Role:**\n",
    "\n",
    "Build a classification model using **Neural Networks** to predict a student's chance of admission into UCLA.\n",
    "\n",
    "\n",
    "**Specifics:** \n",
    "\n",
    "* Machine Learning task: Classification model \n",
    "* Target variable: Admit_Chance \n",
    "* Input variables: Refer to data dictionary below\n",
    "* Success Criteria: Accuracy of 90% and above"
   ]
  },
  {
   "cell_type": "markdown",
   "metadata": {
    "id": "O8NO_yexzbBa"
   },
   "source": [
    "### **Data Dictionary:**\n",
    "\n",
    "The dataset contains several parameters which are considered important during the application for Masters Programs.\n",
    "The parameters included are : \n",
    "\n",
    "**GRE_Score:** (out of 340) \\\n",
    "**TOEFL_Score:** (out of 120) \\\n",
    "**University_Rating:**  It indicates the Bachelor University ranking (out of 5) \\\n",
    "**SOP:** Statement of Purpose Strength (out of 5) \\\n",
    "**LOR:** Letter of Recommendation Strength (out of 5) \\\n",
    "**CGPA:** Student's Undergraduate GPA(out of 10) \\\n",
    "**Research:** Whether the student has Research Experience (either 0 or 1) \\\n",
    "**Admit_Chance:** (ranging from 0 to 1) "
   ]
  },
  {
   "cell_type": "markdown",
   "metadata": {
    "id": "RUNw9Lh-mZHQ"
   },
   "source": [
    "### **Loading the libraries and the dataset**"
   ]
  },
  {
   "cell_type": "code",
   "execution_count": 1,
   "metadata": {
    "id": "CK_nbUDBmX2E"
   },
   "outputs": [],
   "source": [
    "import numpy as np\n",
    "import pandas as pd\n",
    "import matplotlib.pyplot as plt\n",
    "import seaborn as sns\n",
    "\n",
    "\n",
    "import warnings\n",
    "warnings.filterwarnings(\"ignore\")"
   ]
  },
  {
   "cell_type": "code",
   "execution_count": null,
   "metadata": {
    "colab": {
     "base_uri": "https://localhost:8080/",
     "height": 204
    },
    "id": "cF6d_Z6B2CpB",
    "outputId": "900d32a5-573c-4001-90a5-c86f14bc7f20"
   },
   "outputs": [],
   "source": [
    "# load the data using the pandas `read_csv()` function. \n",
    "data = pd.read_csv('Admission.csv')\n"
   ]
  },
  {
   "cell_type": "markdown",
   "metadata": {
    "id": "yVsWWzVw2brU"
   },
   "source": [
    "- In the above dataset, the target variable is **Admit_Chance**\n",
    "- To make this a classification task, let's convert the target variable into a categorical variable by using a threshold of 80%\n",
    "- We are assuming that if **Admit_Chance** is more than 80% then **Admit** would be 1 (i.e. yes) otherwise it would be 0 (i.e. no)"
   ]
  },
  {
   "cell_type": "code",
   "execution_count": null,
   "metadata": {},
   "outputs": [],
   "source": [
    "# take a look at your dataset\n",
    "data.head()"
   ]
  },
  {
   "cell_type": "code",
   "execution_count": null,
   "metadata": {},
   "outputs": [],
   "source": [
    "# Convert the target variable into a categorical variable. \n",
    "# With 80% and above as 1 or 0\n",
    "data[\"Admit_Chance\"]=(data.Admit_Chance>=0.80).astype(int)"
   ]
  },
  {
   "cell_type": "markdown",
   "metadata": {},
   "source": [
    "#### Drop any unnecessary columns"
   ]
  },
  {
   "cell_type": "code",
   "execution_count": null,
   "metadata": {
    "colab": {
     "base_uri": "https://localhost:8080/",
     "height": 204
    },
    "id": "XGCid1us3jRJ",
    "outputId": "c5c7021e-6a16-4e52-ede9-ac345bc7dbb8"
   },
   "outputs": [],
   "source": [
    "# Dropping columns\n",
    "data.drop(['Serial_No'],axis=1,inplace=True)"
   ]
  },
  {
   "cell_type": "markdown",
   "metadata": {
    "id": "VxPbTdpkC-ax"
   },
   "source": [
    "Let's check the info of the data"
   ]
  },
  {
   "cell_type": "code",
   "execution_count": null,
   "metadata": {
    "colab": {
     "base_uri": "https://localhost:8080/"
    },
    "id": "Y5wPX0lb3wRU",
    "outputId": "9d67a8fa-7462-4bb7-cf50-ccfbd5357582"
   },
   "outputs": [],
   "source": [
    "# check the dtypes in the data\n",
    "data.info()"
   ]
  },
  {
   "cell_type": "markdown",
   "metadata": {
    "id": "cBQS9b56DC2_"
   },
   "source": [
    "**Observations:**\n",
    "\n",
    "- There are **500 observations and 8 columns** in the data\n",
    "- All the columns are of **numeric data** type.\n",
    "- There are **no missing values** in the data"
   ]
  },
  {
   "cell_type": "markdown",
   "metadata": {
    "id": "knC7NPjGDqJ8"
   },
   "source": [
    "Let's check the summary statistics of the data"
   ]
  },
  {
   "cell_type": "code",
   "execution_count": null,
   "metadata": {
    "colab": {
     "base_uri": "https://localhost:8080/",
     "height": 297
    },
    "id": "WpdM4iC0DwPJ",
    "outputId": "20d83806-a9f0-4ff5-ed5c-f2e3beb5169d"
   },
   "outputs": [],
   "source": [
    "# check quick stats\n",
    "data.describe()"
   ]
  },
  {
   "cell_type": "markdown",
   "metadata": {
    "id": "Dwro2RclD222"
   },
   "source": [
    "**Observations:**\n",
    "\n",
    "- The average GRE score of students applying for UCLA is ~316 out of 340. Some students scored full marks on GRE. \n",
    "-  The average TOEFL score of students applying for UCLA is ~107 out of 120. Some students scored full marks on TOEFL.\n",
    "- There are students with all kinds of ratings for bachelor's University, SOP, and LOR - ratings ranging from 1 to 5.\n",
    "-  The average CGPA of students applying for UCLA is 8.57.\n",
    "- Majority of students (~56%) have research experience.\n",
    "- As per our assumption, on average 31% of students would get admission to UCLA."
   ]
  },
  {
   "cell_type": "markdown",
   "metadata": {
    "id": "fhotGVGD4hgT"
   },
   "source": [
    "### **Let's visualize the dataset to see some patterns**"
   ]
  },
  {
   "cell_type": "code",
   "execution_count": null,
   "metadata": {},
   "outputs": [],
   "source": [
    "plt.figure(figsize=(15,8))\n",
    "sns.scatterplot(data=data, \n",
    "           x='GRE_Score', \n",
    "           y='TOEFL_Score', \n",
    "           hue='Admit_Chance');"
   ]
  },
  {
   "cell_type": "markdown",
   "metadata": {
    "id": "csxwJUu4Kmj4"
   },
   "source": [
    "**Observations:** \n",
    "\n",
    "- There is a linear relationship between GRE and TOEFL scores. This implies that students scoring high one of them would score high in the other as well.\n",
    "- We can see a distinction between students who were admitted (denoted by orange) vs those who were not admitted (denoted by blue). We can see that majority of students who were admitted have GRE score greater than 320, TOEFL score greater than 105."
   ]
  },
  {
   "cell_type": "markdown",
   "metadata": {
    "id": "ZZP_r2sD7B0P"
   },
   "source": [
    "### **Data Preparation**"
   ]
  },
  {
   "cell_type": "markdown",
   "metadata": {
    "id": "5N2uA8r4MwX6"
   },
   "source": [
    "This dataset contains both numerical and categorical variables. We need to treat them first before we pass them onto the neural network. We will perform below pre-processing steps - \n",
    "*   One hot encoding of categorical variables"
   ]
  },
  {
   "cell_type": "markdown",
   "metadata": {
    "id": "8kYCXX6UN7rE"
   },
   "source": [
    "In this dataset, although the variable **University Rating** is encoded as a numerical variable. But it is denoting or signifying the quality of the university, so that is why this is a categorical variable and we would be creating one-hot encoding or dummy variables for this variable."
   ]
  },
  {
   "cell_type": "code",
   "execution_count": null,
   "metadata": {
    "colab": {
     "base_uri": "https://localhost:8080/",
     "height": 221
    },
    "id": "FHbuFLR-7EeE",
    "outputId": "bd80c0aa-9e70-4aca-cd17-9e4f165888c1"
   },
   "outputs": [],
   "source": [
    "# Create dummy variables for 'University_Rating' and 'Research'\n",
    "data=pd.get_dummies(data,columns=['Research'])"
   ]
  },
  {
   "cell_type": "markdown",
   "metadata": {
    "id": "M3O6DOWXOWkn"
   },
   "source": [
    "### Split the Data into train and test"
   ]
  },
  {
   "cell_type": "code",
   "execution_count": null,
   "metadata": {},
   "outputs": [],
   "source": [
    "# import train test split module\n",
    "from sklearn.model_selection import train_test_split"
   ]
  },
  {
   "cell_type": "code",
   "execution_count": null,
   "metadata": {},
   "outputs": [],
   "source": [
    "# split features and target\n",
    "X = data.drop('Admit_Chance', axis=1)\n",
    "y = data['Admit_Chance']"
   ]
  },
  {
   "cell_type": "code",
   "execution_count": null,
   "metadata": {
    "id": "I8fE8aF_7hJY"
   },
   "outputs": [],
   "source": [
    "# Splitting the dataset into train and test data\n",
    "X_train, X_test, y_train, y_test = train_test_split(X, y, test_size=0.2, stratify=y)"
   ]
  },
  {
   "cell_type": "markdown",
   "metadata": {},
   "source": [
    "### Scale the Data"
   ]
  },
  {
   "cell_type": "markdown",
   "metadata": {},
   "source": [
    "An important point to remember: Before we scale numerical variables, we would first split the dataset into train and test datasets and perform scaling separately. Otherwise, we would be leaking information from the test data to the train data and the resulting model might give a false sense of good performance. This is known as **data leakage** which we would want to avoid."
   ]
  },
  {
   "cell_type": "code",
   "execution_count": null,
   "metadata": {},
   "outputs": [],
   "source": [
    "# import standard scaler\n",
    "from sklearn.preprocessing import MinMaxScaler"
   ]
  },
  {
   "cell_type": "markdown",
   "metadata": {
    "id": "U883DzGZOwpp"
   },
   "source": [
    "Now, we will perform scaling on the numerical variables separately for train and test sets. We will use `.fit` to calculate the mean and standard deviation and `.transform` to transform the data."
   ]
  },
  {
   "cell_type": "code",
   "execution_count": null,
   "metadata": {},
   "outputs": [],
   "source": [
    "# fit calculates the mean and standard deviation\n",
    "scaler = MinMaxScaler()\n",
    "scaler.fit(X_train)"
   ]
  },
  {
   "cell_type": "code",
   "execution_count": null,
   "metadata": {},
   "outputs": [],
   "source": [
    "# Now transform xtrain and xtest\n",
    "X_train_scaled = scaler.transform(X_train)\n",
    "X_test_scaled = scaler.transform(X_test)\n",
    "\n"
   ]
  },
  {
   "cell_type": "markdown",
   "metadata": {},
   "source": [
    "plt.subplot(2,2,1)\n",
    "sns.distplot(data['GRE_Score'])\n",
    "\n",
    "plt.subplot(2,2,2)\n",
    "sns.distplot(Xtrain[:,0])\n",
    "\n",
    "plt.subplot(2,2,3)\n",
    "sns.distplot(data['TOEFL_Score'])\n",
    "\n",
    "plt.subplot(2,2,4)\n",
    "sns.distplot(Xtrain[:,1])\n",
    "\n",
    "plt.show()"
   ]
  },
  {
   "cell_type": "markdown",
   "metadata": {
    "id": "X7VT_t5f9bwR"
   },
   "source": [
    "## **Neural Network Architecture**"
   ]
  },
  {
   "cell_type": "markdown",
   "metadata": {
    "id": "hbltijMlPVVP"
   },
   "source": [
    "In neural networks, there are so many hyper-parameters that you can play around with and tune the network to get the best results. Some of them are - \n",
    "\n",
    "\n",
    "\n",
    "1.   Number of hidden layers\n",
    "2.   Number of neurons in each hidden layer\n",
    "3.   Activation functions in hidden layers\n",
    "4.   Batch size\n",
    "5.   Learning rate\n",
    "6.   Dropout"
   ]
  },
  {
   "cell_type": "code",
   "execution_count": null,
   "metadata": {},
   "outputs": [],
   "source": [
    "data.shape"
   ]
  },
  {
   "cell_type": "code",
   "execution_count": null,
   "metadata": {},
   "outputs": [],
   "source": [
    "# import the model from sklearn\n",
    "from sklearn.neural_network import MLPClassifier"
   ]
  },
  {
   "cell_type": "markdown",
   "metadata": {
    "id": "tLsxcmgPQ_cG"
   },
   "source": [
    "Let's build a feed forward neural network with 2 hidden layers."
   ]
  },
  {
   "cell_type": "markdown",
   "metadata": {
    "id": "4N6XAn6mA_BD"
   },
   "source": [
    "### **Training the model**"
   ]
  },
  {
   "cell_type": "code",
   "execution_count": null,
   "metadata": {},
   "outputs": [],
   "source": [
    "# fit/train the model\n",
    "# hidden layers, batch, epochs(max_iterations)\n",
    "Model = MLPClassifier(hidden_layer_sizes=(5,4),max_iter=200)"
   ]
  },
  {
   "cell_type": "code",
   "execution_count": null,
   "metadata": {},
   "outputs": [],
   "source": [
    "Model.fit(X_train_scaled,y_train)"
   ]
  },
  {
   "cell_type": "code",
   "execution_count": null,
   "metadata": {},
   "outputs": [],
   "source": [
    "# make Predictions\n",
    "ypred= Model.predict(X_test_scaled)"
   ]
  },
  {
   "cell_type": "code",
   "execution_count": null,
   "metadata": {},
   "outputs": [],
   "source": [
    "# import evaluation metrices\n",
    "from sklearn.metrics import accuracy_score"
   ]
  },
  {
   "cell_type": "code",
   "execution_count": null,
   "metadata": {},
   "outputs": [],
   "source": [
    "# check accuracy of the model\n",
    "accuracy_score(ypred,y_test)"
   ]
  },
  {
   "cell_type": "markdown",
   "metadata": {
    "id": "1bVzop-DYYmv"
   },
   "source": [
    "### **Conclusion**"
   ]
  },
  {
   "cell_type": "markdown",
   "metadata": {
    "id": "PiMgKE2xYbCW"
   },
   "source": [
    "In this case study,\n",
    "\n",
    "- We have learned how to build a neural network for a classification task. \n",
    "- We were able to get the test accuracy of 93% using the final model.\n",
    "- You can further analyze the misclassified points and see if there is a pattern or if they were outliers that our model could not identify."
   ]
  },
  {
   "cell_type": "code",
   "execution_count": null,
   "metadata": {},
   "outputs": [],
   "source": []
  }
 ],
 "metadata": {
  "accelerator": "GPU",
  "colab": {
   "collapsed_sections": [
    "RUNw9Lh-mZHQ",
    "fhotGVGD4hgT",
    "ZZP_r2sD7B0P",
    "X7VT_t5f9bwR",
    "4N6XAn6mA_BD",
    "EFMmpLAuBC4n",
    "iSpvgJ_ZPP0f",
    "1bVzop-DYYmv"
   ],
   "name": "MLS_1_Case_Study_Predicting_Chances_of_Admission.ipynb",
   "provenance": []
  },
  "kernelspec": {
   "display_name": "Python 3 (ipykernel)",
   "language": "python",
   "name": "python3"
  },
  "language_info": {
   "codemirror_mode": {
    "name": "ipython",
    "version": 3
   },
   "file_extension": ".py",
   "mimetype": "text/x-python",
   "name": "python",
   "nbconvert_exporter": "python",
   "pygments_lexer": "ipython3",
   "version": "3.9.13"
  }
 },
 "nbformat": 4,
 "nbformat_minor": 1
}
